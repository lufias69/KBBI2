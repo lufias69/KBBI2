{
 "cells": [
  {
   "cell_type": "code",
   "execution_count": 1,
   "metadata": {},
   "outputs": [],
   "source": [
    "from cek_KBBI import KBBI as kbbi"
   ]
  },
  {
   "cell_type": "code",
   "execution_count": 7,
   "metadata": {},
   "outputs": [],
   "source": [
    "corpus = ['indonesia']"
   ]
  },
  {
   "cell_type": "code",
   "execution_count": 8,
   "metadata": {},
   "outputs": [
    {
     "data": {
      "text/plain": [
       "'sayur asem merupakan masakan banyak orang selain mudah dibuat rasanya juga menyegarkan ciri khas sayur asem yakni perpaduan rasa asem yang menonjol ada manisnya asin bahkan ada rasa pedas variasi sayuran di dalamnya sangat beragam rasa asem dari masakan biasanya didapat dari tomat asem jawa ataupun dari buah belimbing salah kalau sayur asem cocok di lidah orang indonesia'"
      ]
     },
     "execution_count": 8,
     "metadata": {},
     "output_type": "execute_result"
    }
   ],
   "source": [
    "teks = \"Sayur asem merupakan masakan favorit banyak orang. Selain mudah dibuat rasanya juga menyegarkan. Ciri khas sayur asem yakni perpaduan rasa asem yang menonjol, ada manisnya, asin bahkan ada rasa pedas, variasi sayuran di dalamnya sangat beragam. Rasa asem dari masakan ini biasanya didapat dari tomat, asem jawa, ataupun dari buah belimbing wuluh. Nggak, salah kalau sayur asem ini cocok di lidah orang Indonesia.\"\n",
    "\n",
    "kbbi.cek_kbbi(teks, corpus = corpus)"
   ]
  },
  {
   "cell_type": "code",
   "execution_count": null,
   "metadata": {},
   "outputs": [],
   "source": []
  }
 ],
 "metadata": {
  "kernelspec": {
   "display_name": "Python 3",
   "language": "python",
   "name": "python3"
  },
  "language_info": {
   "codemirror_mode": {
    "name": "ipython",
    "version": 3
   },
   "file_extension": ".py",
   "mimetype": "text/x-python",
   "name": "python",
   "nbconvert_exporter": "python",
   "pygments_lexer": "ipython3",
   "version": "3.7.6"
  }
 },
 "nbformat": 4,
 "nbformat_minor": 4
}
